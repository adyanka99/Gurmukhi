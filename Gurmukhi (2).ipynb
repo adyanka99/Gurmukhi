{
  "cells": [
    {
      "cell_type": "code",
      "execution_count": null,
      "metadata": {
        "id": "eZ4K_w9XhprR"
      },
      "outputs": [],
      "source": [
        "import numpy as np\n",
        "import tensorflow as tf\n",
        "from tensorflow import keras\n",
        "import pandas as pd\n",
        "from matplotlib import pyplot as plt\n",
        "%matplotlib inline\n",
        "import os\n",
        "import cv2"
      ]
    },
    {
      "cell_type": "code",
      "execution_count": null,
      "metadata": {
        "id": "dpMxUCnkhrcI"
      },
      "outputs": [],
      "source": [
        "# Define the paths to your image folders\n",
        "train = './train'\n",
        "val = './val'"
      ]
    },
    {
      "cell_type": "code",
      "execution_count": null,
      "metadata": {
        "id": "qB6f2_Lihxrr"
      },
      "outputs": [],
      "source": [
        "# Set the path to the folder containing the 'train' folder\n",
        "data_dir = train\n",
        "# Set the image size\n",
        "img_size = (32, 32)\n",
        "# Create empty lists for the images and labels\n",
        "images = []\n",
        "labels = []\n",
        "# Loop over each folder from '0' to '9'\n",
        "for label in range(10):\n",
        "    folder_path = os.path.join(data_dir, str(label))\n",
        "    # Loop over each image in the folder\n",
        "    for file in os.listdir(folder_path):\n",
        "        file_path = os.path.join(folder_path, file)\n",
        "        if file_path.endswith(('.tiff','.bmp')):\n",
        "           # Load the image and resize it to the desired size\n",
        "           img = cv2.imread(file_path, cv2.IMREAD_GRAYSCALE)\n",
        "           img = cv2.resize(img, img_size)\n",
        "           # Append the image and label to the lists\n",
        "           images.append(img)\n",
        "           labels.append(label)\n",
        "\n",
        "# Convert the lists to NumPy arrays\n",
        "images = np.array(images)\n",
        "labels = np.array(labels)\n",
        "\n",
        "# Save the arrays in NumPy format\n",
        "np.save('x_train.npy', images)\n",
        "np.save('y_train.npy', labels)"
      ]
    },
    {
      "cell_type": "code",
      "execution_count": null,
      "metadata": {
        "id": "AO-AKNREh6sg"
      },
      "outputs": [],
      "source": [
        "# Set the path to the folder containing the 'val' folder\n",
        "data_dir_val = val\n",
        "# Set the image size\n",
        "img_size_val = (32, 32)\n",
        "# Create empty lists for the images and labels\n",
        "images_val = []\n",
        "labels_val = []\n",
        "# Loop over each folder from '0' to '9'\n",
        "for label in range(10):\n",
        "    folder_path = os.path.join(data_dir_val,str(label))\n",
        "    # Loop over each image in the folder\n",
        "    for file in os.listdir(folder_path):\n",
        "        file_path = os.path.join(folder_path, file)\n",
        "        if file_path.endswith(('.tiff','.bmp')):\n",
        "            # Load the image and resize it to the desired size\n",
        "            img = cv2.imread(file_path, cv2.IMREAD_GRAYSCALE)\n",
        "            img = cv2.resize(img, img_size_val)\n",
        "            # Append the image and label to the lists\n",
        "            images_val.append(img)\n",
        "            labels_val.append(label)\n",
        "\n",
        "# Convert the lists to NumPy arrays\n",
        "images_val = np.array(images_val)\n",
        "labels_val = np.array(labels_val)\n",
        "# Save the arrays in NumPy format\n",
        "np.save('x_test.npy', images_val)\n",
        "np.save('y_test.npy', labels_val)"
      ]
    },
    {
      "cell_type": "code",
      "execution_count": null,
      "metadata": {
        "id": "YIergl27iWA0"
      },
      "outputs": [],
      "source": [
        "# Load the dataset\n",
        "x_train = np.load('x_train.npy')\n",
        "y_train = np.load('y_train.npy')\n",
        "x_test = np.load('x_test.npy')\n",
        "y_test = np.load('y_test.npy')\n"
      ]
    },
    {
      "cell_type": "code",
      "execution_count": null,
      "metadata": {
        "colab": {
          "base_uri": "https://localhost:8080/",
          "height": 1000
        },
        "id": "rJqI6sK1iaea",
        "outputId": "89cfe699-30e7-400a-c514-a82cf762489b"
      },
      "outputs": [
        {
          "name": "stdout",
          "output_type": "stream",
          "text": [
            "1000\n",
            "178\n",
            "(1000, 32, 32)\n",
            "(178, 32, 32)\n"
          ]
        },
        {
          "data": {
            "text/plain": [
              "array([0, 0, 0, 0, 0, 0, 0, 0, 0, 0, 0, 0, 0, 0, 0, 0, 0, 0, 0, 0, 0, 0,\n",
              "       0, 0, 0, 0, 0, 0, 0, 0, 0, 0, 0, 0, 0, 0, 0, 0, 0, 0, 0, 0, 0, 0,\n",
              "       0, 0, 0, 0, 0, 0, 0, 0, 0, 0, 0, 0, 0, 0, 0, 0, 0, 0, 0, 0, 0, 0,\n",
              "       0, 0, 0, 0, 0, 0, 0, 0, 0, 0, 0, 0, 0, 0, 0, 0, 0, 0, 0, 0, 0, 0,\n",
              "       0, 0, 0, 0, 0, 0, 0, 0, 0, 0, 0, 0, 1, 1, 1, 1, 1, 1, 1, 1, 1, 1,\n",
              "       1, 1, 1, 1, 1, 1, 1, 1, 1, 1, 1, 1, 1, 1, 1, 1, 1, 1, 1, 1, 1, 1,\n",
              "       1, 1, 1, 1, 1, 1, 1, 1, 1, 1, 1, 1, 1, 1, 1, 1, 1, 1, 1, 1, 1, 1,\n",
              "       1, 1, 1, 1, 1, 1, 1, 1, 1, 1, 1, 1, 1, 1, 1, 1, 1, 1, 1, 1, 1, 1,\n",
              "       1, 1, 1, 1, 1, 1, 1, 1, 1, 1, 1, 1, 1, 1, 1, 1, 1, 1, 1, 1, 1, 1,\n",
              "       1, 1, 2, 2, 2, 2, 2, 2, 2, 2, 2, 2, 2, 2, 2, 2, 2, 2, 2, 2, 2, 2,\n",
              "       2, 2, 2, 2, 2, 2, 2, 2, 2, 2, 2, 2, 2, 2, 2, 2, 2, 2, 2, 2, 2, 2,\n",
              "       2, 2, 2, 2, 2, 2, 2, 2, 2, 2, 2, 2, 2, 2, 2, 2, 2, 2, 2, 2, 2, 2,\n",
              "       2, 2, 2, 2, 2, 2, 2, 2, 2, 2, 2, 2, 2, 2, 2, 2, 2, 2, 2, 2, 2, 2,\n",
              "       2, 2, 2, 2, 2, 2, 2, 2, 2, 2, 2, 2, 2, 2, 3, 3, 3, 3, 3, 3, 3, 3,\n",
              "       3, 3, 3, 3, 3, 3, 3, 3, 3, 3, 3, 3, 3, 3, 3, 3, 3, 3, 3, 3, 3, 3,\n",
              "       3, 3, 3, 3, 3, 3, 3, 3, 3, 3, 3, 3, 3, 3, 3, 3, 3, 3, 3, 3, 3, 3,\n",
              "       3, 3, 3, 3, 3, 3, 3, 3, 3, 3, 3, 3, 3, 3, 3, 3, 3, 3, 3, 3, 3, 3,\n",
              "       3, 3, 3, 3, 3, 3, 3, 3, 3, 3, 3, 3, 3, 3, 3, 3, 3, 3, 3, 3, 3, 3,\n",
              "       3, 3, 3, 3, 4, 4, 4, 4, 4, 4, 4, 4, 4, 4, 4, 4, 4, 4, 4, 4, 4, 4,\n",
              "       4, 4, 4, 4, 4, 4, 4, 4, 4, 4, 4, 4, 4, 4, 4, 4, 4, 4, 4, 4, 4, 4,\n",
              "       4, 4, 4, 4, 4, 4, 4, 4, 4, 4, 4, 4, 4, 4, 4, 4, 4, 4, 4, 4, 4, 4,\n",
              "       4, 4, 4, 4, 4, 4, 4, 4, 4, 4, 4, 4, 4, 4, 4, 4, 4, 4, 4, 4, 4, 4,\n",
              "       4, 4, 4, 4, 4, 4, 4, 4, 4, 4, 4, 4, 4, 4, 4, 4, 5, 5, 5, 5, 5, 5,\n",
              "       5, 5, 5, 5, 5, 5, 5, 5, 5, 5, 5, 5, 5, 5, 5, 5, 5, 5, 5, 5, 5, 5,\n",
              "       5, 5, 5, 5, 5, 5, 5, 5, 5, 5, 5, 5, 5, 5, 5, 5, 5, 5, 5, 5, 5, 5,\n",
              "       5, 5, 5, 5, 5, 5, 5, 5, 5, 5, 5, 5, 5, 5, 5, 5, 5, 5, 5, 5, 5, 5,\n",
              "       5, 5, 5, 5, 5, 5, 5, 5, 5, 5, 5, 5, 5, 5, 5, 5, 5, 5, 5, 5, 5, 5,\n",
              "       5, 5, 5, 5, 5, 5, 6, 6, 6, 6, 6, 6, 6, 6, 6, 6, 6, 6, 6, 6, 6, 6,\n",
              "       6, 6, 6, 6, 6, 6, 6, 6, 6, 6, 6, 6, 6, 6, 6, 6, 6, 6, 6, 6, 6, 6,\n",
              "       6, 6, 6, 6, 6, 6, 6, 6, 6, 6, 6, 6, 6, 6, 6, 6, 6, 6, 6, 6, 6, 6,\n",
              "       6, 6, 6, 6, 6, 6, 6, 6, 6, 6, 6, 6, 6, 6, 6, 6, 6, 6, 6, 6, 6, 6,\n",
              "       6, 6, 6, 6, 6, 6, 6, 6, 6, 6, 6, 6, 6, 6, 6, 6, 6, 6, 7, 7, 7, 7,\n",
              "       7, 7, 7, 7, 7, 7, 7, 7, 7, 7, 7, 7, 7, 7, 7, 7, 7, 7, 7, 7, 7, 7,\n",
              "       7, 7, 7, 7, 7, 7, 7, 7, 7, 7, 7, 7, 7, 7, 7, 7, 7, 7, 7, 7, 7, 7,\n",
              "       7, 7, 7, 7, 7, 7, 7, 7, 7, 7, 7, 7, 7, 7, 7, 7, 7, 7, 7, 7, 7, 7,\n",
              "       7, 7, 7, 7, 7, 7, 7, 7, 7, 7, 7, 7, 7, 7, 7, 7, 7, 7, 7, 7, 7, 7,\n",
              "       7, 7, 7, 7, 7, 7, 7, 7, 8, 8, 8, 8, 8, 8, 8, 8, 8, 8, 8, 8, 8, 8,\n",
              "       8, 8, 8, 8, 8, 8, 8, 8, 8, 8, 8, 8, 8, 8, 8, 8, 8, 8, 8, 8, 8, 8,\n",
              "       8, 8, 8, 8, 8, 8, 8, 8, 8, 8, 8, 8, 8, 8, 8, 8, 8, 8, 8, 8, 8, 8,\n",
              "       8, 8, 8, 8, 8, 8, 8, 8, 8, 8, 8, 8, 8, 8, 8, 8, 8, 8, 8, 8, 8, 8,\n",
              "       8, 8, 8, 8, 8, 8, 8, 8, 8, 8, 8, 8, 8, 8, 8, 8, 8, 8, 8, 8, 9, 9,\n",
              "       9, 9, 9, 9, 9, 9, 9, 9, 9, 9, 9, 9, 9, 9, 9, 9, 9, 9, 9, 9, 9, 9,\n",
              "       9, 9, 9, 9, 9, 9, 9, 9, 9, 9, 9, 9, 9, 9, 9, 9, 9, 9, 9, 9, 9, 9,\n",
              "       9, 9, 9, 9, 9, 9, 9, 9, 9, 9, 9, 9, 9, 9, 9, 9, 9, 9, 9, 9, 9, 9,\n",
              "       9, 9, 9, 9, 9, 9, 9, 9, 9, 9, 9, 9, 9, 9, 9, 9, 9, 9, 9, 9, 9, 9,\n",
              "       9, 9, 9, 9, 9, 9, 9, 9, 9, 9])"
            ]
          },
          "execution_count": 46,
          "metadata": {},
          "output_type": "execute_result"
        },
        {
          "data": {
            "image/png": "[encoded data removed]",
            "text/plain": [
              "<Figure size 480x480 with 1 Axes>"
            ]
          },
          "metadata": {},
          "output_type": "display_data"
        },
        {
          "data": {
            "image/png": "[encoded data removed]",
            "text/plain": [
              "<Figure size 480x480 with 1 Axes>"
            ]
          },
          "metadata": {},
          "output_type": "display_data"
        }
      ],
      "source": [
        "# test the images are loaded correctly\n",
        "print(len(x_train))\n",
        "print(len(x_test))\n",
        "x_train[0].shape\n",
        "x_train[0]\n",
        "plt.matshow(x_train[0])\n",
        "plt.matshow(x_train[999])\n",
        "print(x_train.shape)\n",
        "print(x_test.shape)\n",
        "y_train"
      ]
    },
    {
      "cell_type": "code",
      "execution_count": null,
      "metadata": {
        "colab": {
          "base_uri": "https://localhost:8080/"
        },
        "id": "_5ww2VfnidQm",
        "outputId": "755586db-6ca8-49f3-fc53-d3249ab9e3a9"
      },
      "outputs": [
        {
          "name": "stdout",
          "output_type": "stream",
          "text": [
            "(1000, 1024)\n",
            "(178, 1024)\n"
          ]
        },
        {
          "data": {
            "text/plain": [
              "array([255, 255, 255, ..., 255, 255, 255], dtype=uint8)"
            ]
          },
          "execution_count": 47,
          "metadata": {},
          "output_type": "execute_result"
        }
      ],
      "source": [
        "# flatten the dataset i.e, change 2D to 1D\n",
        "x_rail_flat = x_train.reshape(len(x_train),32*32)\n",
        "x_test = x_test.reshape(len(x_test),32*32)\n",
        "print(x_rail_flat.shape)\n",
        "print(x_test.shape)\n",
        "x_rail_flat[0]\n"
      ]
    },
    {
      "cell_type": "code",
      "execution_count": null,
      "metadata": {
        "colab": {
          "base_uri": "https://localhost:8080/"
        },
        "id": "U8Kf6pNeihBo",
        "outputId": "15a02691-4ddf-4563-f005-2190b15649f2"
      },
      "outputs": [
        {
          "name": "stdout",
          "output_type": "stream",
          "text": [
            "Epoch 1/5\n",
            "32/32 [==============================] - 0s 2ms/step - loss: 140.2424 - accuracy: 0.3940\n",
            "Epoch 2/5\n",
            "32/32 [==============================] - 0s 2ms/step - loss: 21.6713 - accuracy: 0.7990\n",
            "Epoch 3/5\n",
            "32/32 [==============================] - 0s 2ms/step - loss: 11.9308 - accuracy: 0.8720\n",
            "Epoch 4/5\n",
            "32/32 [==============================] - 0s 2ms/step - loss: 10.7066 - accuracy: 0.9000\n",
            "Epoch 5/5\n",
            "32/32 [==============================] - 0s 2ms/step - loss: 5.7951 - accuracy: 0.9390\n"
          ]
        },
        {
          "data": {
            "text/plain": [
              "<keras.callbacks.History at 0x7f13399bd370>"
            ]
          },
          "execution_count": 48,
          "metadata": {},
          "output_type": "execute_result"
        }
      ],
      "source": [
        "# creating a simple nn\n",
        "# create a dense layer where every input is connected to every other output, the number of inputs are 1000, outputs are 10\n",
        "# activation function is sigmoid\n",
        "model = keras.Sequential([\n",
        " keras.layers.Dense(10, input_shape=(1024,),activation = 'sigmoid')\n",
        "])\n",
        "# compile the nn\n",
        "model.compile(optimizer='adam',\n",
        " loss='sparse_categorical_crossentropy',\n",
        " metrics=['accuracy']\n",
        " )\n",
        "# train the model\n",
        "# 5 iterations done here\n",
        "model.fit(x_rail_flat, y_train,epochs= 5)\n"
      ]
    },
    {
      "cell_type": "code",
      "execution_count": null,
      "metadata": {
        "colab": {
          "base_uri": "https://localhost:8080/"
        },
        "id": "W-UM1e0A3dFO",
        "outputId": "574dde9a-eb06-431d-fa8a-58aef2f9ad16"
      },
      "outputs": [
        {
          "name": "stdout",
          "output_type": "stream",
          "text": [
            "Epoch 1/10\n",
            "32/32 [==============================] - 1s 8ms/step - loss: 133.3249 - accuracy: 0.4080 - val_loss: 44.2883 - val_accuracy: 0.6629\n",
            "Epoch 2/10\n",
            "32/32 [==============================] - 0s 4ms/step - loss: 26.4286 - accuracy: 0.7890 - val_loss: 31.1247 - val_accuracy: 0.7472\n",
            "Epoch 3/10\n",
            "32/32 [==============================] - 0s 3ms/step - loss: 13.9124 - accuracy: 0.8680 - val_loss: 27.5864 - val_accuracy: 0.7416\n",
            "Epoch 4/10\n",
            "32/32 [==============================] - 0s 3ms/step - loss: 12.3741 - accuracy: 0.8920 - val_loss: 11.0762 - val_accuracy: 0.8652\n",
            "Epoch 5/10\n",
            "32/32 [==============================] - 0s 3ms/step - loss: 6.8699 - accuracy: 0.9330 - val_loss: 9.8917 - val_accuracy: 0.8876\n",
            "Epoch 6/10\n",
            "32/32 [==============================] - 0s 3ms/step - loss: 4.0651 - accuracy: 0.9420 - val_loss: 15.4367 - val_accuracy: 0.8315\n",
            "Epoch 7/10\n",
            "32/32 [==============================] - 0s 3ms/step - loss: 6.2850 - accuracy: 0.9340 - val_loss: 32.0129 - val_accuracy: 0.8258\n",
            "Epoch 8/10\n",
            "32/32 [==============================] - 0s 3ms/step - loss: 4.6498 - accuracy: 0.9400 - val_loss: 9.6843 - val_accuracy: 0.9270\n",
            "Epoch 9/10\n",
            "32/32 [==============================] - 0s 3ms/step - loss: 2.5680 - accuracy: 0.9630 - val_loss: 15.0602 - val_accuracy: 0.8876\n",
            "Epoch 10/10\n",
            "32/32 [==============================] - 0s 3ms/step - loss: 1.2581 - accuracy: 0.9740 - val_loss: 11.8441 - val_accuracy: 0.9101\n"
          ]
        },
        {
          "data": {
            "text/plain": [
              "<keras.callbacks.History at 0x7f132fa47460>"
            ]
          },
          "execution_count": 49,
          "metadata": {},
          "output_type": "execute_result"
        }
      ],
      "source": [
        "# creating a simple nn\n",
        "# create a dense layer where every input is connected to every other output, the number of inputs are 1000, outputs are 10\n",
        "# activation function is sigmoid\n",
        "model = keras.Sequential([\n",
        "    keras.layers.Flatten(),\n",
        "    keras.layers.Dense(10, input_shape=(1024,),activation = 'sigmoid')\n",
        "    ])\n",
        "# compile the nn\n",
        "model.compile(optimizer='adam',\n",
        "              loss='sparse_categorical_crossentropy',\n",
        "              metrics=['accuracy']\n",
        "              )\n",
        "# train the model\n",
        "# some 10 iterations done here\n",
        "model.fit(x_train, y_train,epochs= 10, validation_data=(x_test, y_test))"
      ]
    },
    {
      "cell_type": "code",
      "execution_count": null,
      "metadata": {
        "id": "hR-z0fze37Db"
      },
      "outputs": [],
      "source": [
        "# Observation : we see a better accuracy from the 2nd iteration"
      ]
    },
    {
      "cell_type": "code",
      "execution_count": null,
      "metadata": {
        "colab": {
          "base_uri": "https://localhost:8080/"
        },
        "id": "x4Qzemwc69FM",
        "outputId": "810dbecd-3811-4349-9495-d962fccc2632"
      },
      "outputs": [
        {
          "name": "stdout",
          "output_type": "stream",
          "text": [
            "Epoch 1/10\n",
            "32/32 [==============================] - 0s 8ms/step - loss: 0.6780 - accuracy: 0.9640 - val_loss: 0.9198 - val_accuracy: 0.8708\n",
            "Epoch 2/10\n",
            "32/32 [==============================] - 0s 3ms/step - loss: 0.6711 - accuracy: 0.9670 - val_loss: 0.9005 - val_accuracy: 0.8933\n",
            "Epoch 3/10\n",
            "32/32 [==============================] - 0s 3ms/step - loss: 0.6560 - accuracy: 0.9750 - val_loss: 0.8850 - val_accuracy: 0.9101\n",
            "Epoch 4/10\n",
            "32/32 [==============================] - 0s 3ms/step - loss: 0.6446 - accuracy: 0.9820 - val_loss: 0.8746 - val_accuracy: 0.9101\n",
            "Epoch 5/10\n",
            "32/32 [==============================] - 0s 4ms/step - loss: 0.6360 - accuracy: 0.9840 - val_loss: 0.8663 - val_accuracy: 0.9045\n",
            "Epoch 6/10\n",
            "32/32 [==============================] - 0s 3ms/step - loss: 0.6291 - accuracy: 0.9900 - val_loss: 0.8600 - val_accuracy: 0.9045\n",
            "Epoch 7/10\n",
            "32/32 [==============================] - 0s 3ms/step - loss: 0.6226 - accuracy: 0.9910 - val_loss: 0.8544 - val_accuracy: 0.9101\n",
            "Epoch 8/10\n",
            "32/32 [==============================] - 0s 3ms/step - loss: 0.6166 - accuracy: 0.9950 - val_loss: 0.8484 - val_accuracy: 0.9101\n",
            "Epoch 9/10\n",
            "32/32 [==============================] - 0s 4ms/step - loss: 0.6110 - accuracy: 0.9960 - val_loss: 0.8426 - val_accuracy: 0.9101\n",
            "Epoch 10/10\n",
            "32/32 [==============================] - 0s 3ms/step - loss: 0.6054 - accuracy: 0.9960 - val_loss: 0.8375 - val_accuracy: 0.9045\n"
          ]
        },
        {
          "data": {
            "text/plain": [
              "<keras.callbacks.History at 0x7f132f961c40>"
            ]
          },
          "execution_count": 51,
          "metadata": {},
          "output_type": "execute_result"
        }
      ],
      "source": [
        "# now scale and try to check the accuracy, divide dataset by 255\n",
        "x_train_t = x_train/255\n",
        "x_test_scaled = x_test/255\n",
        "model.fit(x_train_t, y_train,epochs= 10, validation_data=(x_test_scaled, y_test))"
      ]
    },
    {
      "cell_type": "code",
      "execution_count": null,
      "metadata": {
        "id": "eF4kHgje7D__"
      },
      "outputs": [],
      "source": [
        "# Observation : we got better result for all iterations on scaling the training dataset"
      ]
    },
    {
      "cell_type": "code",
      "execution_count": null,
      "metadata": {
        "colab": {
          "base_uri": "https://localhost:8080/"
        },
        "id": "rdkKASMg7GyS",
        "outputId": "acf93e54-f28e-4215-d62e-4af83a8183f0"
      },
      "outputs": [
        {
          "name": "stdout",
          "output_type": "stream",
          "text": [
            "6/6 [==============================] - 0s 3ms/step - loss: 0.8375 - accuracy: 0.9045\n"
          ]
        },
        {
          "data": {
            "text/plain": [
              "[0.837472140789032, 0.9044944047927856]"
            ]
          },
          "execution_count": 53,
          "metadata": {},
          "output_type": "execute_result"
        }
      ],
      "source": [
        "# evaluate test dataset\n",
        "model.evaluate(x_test_scaled,y_test)"
      ]
    },
    {
      "cell_type": "code",
      "execution_count": null,
      "metadata": {
        "id": "YhJRgn-n72qq"
      },
      "outputs": [],
      "source": [
        "# here we can see there are some errors\n",
        "# we need to modify our nn, we add some layers in the above model and different activation function"
      ]
    },
    {
      "cell_type": "code",
      "execution_count": null,
      "metadata": {
        "colab": {
          "base_uri": "https://localhost:8080/"
        },
        "id": "rOuZFiav75GB",
        "outputId": "92a9ab7b-0d8e-40a2-97f0-68e39009f086"
      },
      "outputs": [
        {
          "name": "stdout",
          "output_type": "stream",
          "text": [
            "Epoch 1/10\n",
            "32/32 [==============================] - 1s 21ms/step - loss: 1.0068 - accuracy: 0.7290 - val_loss: 0.4261 - val_accuracy: 0.8427\n",
            "Epoch 2/10\n",
            "32/32 [==============================] - 1s 17ms/step - loss: 0.1726 - accuracy: 0.9430 - val_loss: 0.2544 - val_accuracy: 0.9101\n",
            "Epoch 3/10\n",
            "32/32 [==============================] - 1s 17ms/step - loss: 0.1076 - accuracy: 0.9620 - val_loss: 0.3081 - val_accuracy: 0.9382\n",
            "Epoch 4/10\n",
            "32/32 [==============================] - 1s 16ms/step - loss: 0.0700 - accuracy: 0.9810 - val_loss: 0.2386 - val_accuracy: 0.9270\n",
            "Epoch 5/10\n",
            "32/32 [==============================] - 0s 16ms/step - loss: 0.0789 - accuracy: 0.9720 - val_loss: 0.3116 - val_accuracy: 0.9326\n",
            "Epoch 6/10\n",
            "32/32 [==============================] - 1s 16ms/step - loss: 0.0295 - accuracy: 0.9940 - val_loss: 0.1880 - val_accuracy: 0.9494\n",
            "Epoch 7/10\n",
            "32/32 [==============================] - 1s 24ms/step - loss: 0.0162 - accuracy: 0.9980 - val_loss: 0.2264 - val_accuracy: 0.9438\n",
            "Epoch 8/10\n",
            "32/32 [==============================] - 1s 25ms/step - loss: 0.0159 - accuracy: 1.0000 - val_loss: 0.2268 - val_accuracy: 0.9494\n",
            "Epoch 9/10\n",
            "32/32 [==============================] - 1s 27ms/step - loss: 0.0150 - accuracy: 0.9960 - val_loss: 0.2434 - val_accuracy: 0.9438\n",
            "Epoch 10/10\n",
            "32/32 [==============================] - 1s 25ms/step - loss: 0.0131 - accuracy: 0.9970 - val_loss: 0.1988 - val_accuracy: 0.9551\n"
          ]
        }
      ],
      "source": [
        "# in 1st Dense layer,the input is 32 x 32 = 1024 neurons, which will give 10 output(numbers from 0 to 9)\n",
        "# 2nd Dense layer,the input is 10 neurons from above layers output\n",
        "# we can add more layers for accuracy\n",
        "model2 = keras.Sequential([\n",
        "    keras.layers.Flatten(),\n",
        "    keras.layers.Dense(1024,input_shape=(1024,), activation='relu'),\n",
        "    keras.layers.Dense(10, activation='softmax')\n",
        "    ])\n",
        "# compile the nn\n",
        "model2.compile(optimizer='adam',\n",
        "              loss='sparse_categorical_crossentropy',\n",
        "              metrics=['accuracy']\n",
        "              )\n",
        "# train the model\n",
        "# some 10 iterations done here\n",
        "history = model2.fit(x_train_t, y_train,epochs= 10, validation_data=(x_test_scaled, y_test))"
      ]
    },
    {
      "cell_type": "code",
      "execution_count": null,
      "metadata": {
        "colab": {
          "base_uri": "https://localhost:8080/"
        },
        "id": "4Vbq9-uX8FC_",
        "outputId": "b1f73592-7e6c-401c-ed30-0671669b15e7"
      },
      "outputs": [
        {
          "name": "stdout",
          "output_type": "stream",
          "text": [
            "6/6 [==============================] - 0s 7ms/step - loss: 0.1988 - accuracy: 0.9551\n"
          ]
        },
        {
          "data": {
            "text/plain": [
              "[0.19881635904312134, 0.9550561904907227]"
            ]
          },
          "execution_count": 56,
          "metadata": {},
          "output_type": "execute_result"
        }
      ],
      "source": [
        "# Observation : due to multiple layers the compiling will take more time to execute\n",
        "# we also got amazing accuracy than earlier\n",
        "# evaluate test dataset on modified model\n",
        "model2.evaluate(x_test_scaled,y_test)"
      ]
    },
    {
      "cell_type": "code",
      "execution_count": null,
      "metadata": {
        "colab": {
          "base_uri": "https://localhost:8080/"
        },
        "id": "-OInnYrk8IZg",
        "outputId": "fa789fbc-6a8e-46b9-81c2-016dad9dbf64"
      },
      "outputs": [
        {
          "name": "stdout",
          "output_type": "stream",
          "text": [
            "6/6 [==============================] - 0s 6ms/step\n",
            "[0, 0, 0, 0, 0, 0, 0, 0, 0, 0, 0, 0, 0, 0, 0, 0, 0, 0, 7, 1, 1, 1, 1, 1, 1, 1, 7, 7, 1, 1, 1, 1, 1, 1, 2, 5, 2, 2, 4, 2, 2, 9, 2, 2, 2, 2, 2, 2, 2, 2, 2, 3, 3, 3, 3, 3, 3, 3, 3, 3, 3, 3, 3, 3, 3, 3, 3, 3, 4, 4, 4, 4, 4, 4, 4, 4, 4, 4, 4, 4, 4, 4, 4, 4, 4, 4, 5, 5, 5, 5, 5, 5, 5, 5, 5, 5, 5, 5, 5, 5, 5, 5, 5, 5, 6, 6, 6, 6, 6, 6, 6, 6, 6, 6, 6, 6, 6, 6, 6, 6, 6, 6, 7, 1, 7, 7, 7, 7, 7, 7, 7, 7, 7, 7, 7, 1, 7, 7, 7, 7, 8, 8, 8, 8, 8, 8, 8, 8, 8, 8, 8, 8, 8, 8, 8, 8, 8, 8, 9, 9, 9, 9, 9, 9, 9, 9, 9, 9, 9, 9, 9, 9, 9, 9, 9, 9, 9, 9] 178\n"
          ]
        },
        {
          "data": {
            "text/plain": [
              "<tf.Tensor: shape=(10, 10), dtype=int32, numpy=\n",
              "array([[18,  0,  0,  0,  0,  0,  0,  0,  0,  0],\n",
              "       [ 0, 13,  0,  0,  0,  0,  0,  3,  0,  0],\n",
              "       [ 0,  0, 14,  0,  1,  1,  0,  0,  0,  1],\n",
              "       [ 0,  0,  0, 17,  0,  0,  0,  0,  0,  0],\n",
              "       [ 0,  0,  0,  0, 18,  0,  0,  0,  0,  0],\n",
              "       [ 0,  0,  0,  0,  0, 18,  0,  0,  0,  0],\n",
              "       [ 0,  0,  0,  0,  0,  0, 18,  0,  0,  0],\n",
              "       [ 0,  2,  0,  0,  0,  0,  0, 16,  0,  0],\n",
              "       [ 0,  0,  0,  0,  0,  0,  0,  0, 18,  0],\n",
              "       [ 0,  0,  0,  0,  0,  0,  0,  0,  0, 20]], dtype=int32)>"
            ]
          },
          "execution_count": 57,
          "metadata": {},
          "output_type": "execute_result"
        }
      ],
      "source": [
        "# Earlier we got 0.9213483333587646 now we got 0.9606741666793823 accuracy\n",
        "# redo the confusion matrix\n",
        "# build confusion matrix to see how our prediction looks like\n",
        "# convert to concrete values\n",
        "y_predicted = model2.predict(x_test_scaled)\n",
        "y_predicted[0]\n",
        "y_predicted_labels=[np.argmax(i) for i in y_predicted]\n",
        "print(y_predicted_labels, len(y_predicted_labels))\n",
        "conf_mat = tf.math.confusion_matrix(labels=y_test, predictions=y_predicted_labels)\n",
        "conf_mat"
      ]
    },
    {
      "cell_type": "code",
      "execution_count": null,
      "metadata": {
        "colab": {
          "base_uri": "https://localhost:8080/",
          "height": 872
        },
        "id": "cOLcyjrC8Pz-",
        "outputId": "2d1cd002-c0b8-47d3-c10a-026c3d535edb"
      },
      "outputs": [
        {
          "data": {
            "text/plain": [
              "Text(95.72222222222221, 0.5, 'Actual')"
            ]
          },
          "execution_count": 58,
          "metadata": {},
          "output_type": "execute_result"
        },
        {
          "data": {
            "image/png": "[encoded data removed]",
            "text/plain": [
              "<Figure size 1000x1000 with 2 Axes>"
            ]
          },
          "metadata": {},
          "output_type": "display_data"
        }
      ],
      "source": [
        "plt.figure(figsize = (10,10))\n",
        "sn.heatmap(conf_mat,annot=True,fmt='d')\n",
        "plt.xlabel('Predicted')\n",
        "plt.ylabel('Actual')\n"
      ]
    },
    {
      "cell_type": "code",
      "execution_count": null,
      "metadata": {
        "colab": {
          "base_uri": "https://localhost:8080/",
          "height": 507
        },
        "id": "TCevqx0Y8U61",
        "outputId": "dd63e0dc-a3a2-477d-bc49-6dbd9e9edd06"
      },
      "outputs": [
        {
          "name": "stdout",
          "output_type": "stream",
          "text": [
            "6/6 [==============================] - 0s 3ms/step - loss: 11.9681 - accuracy: 0.9045\n",
            "Test accuracy: 0.9044944047927856\n"
          ]
        },
        {
          "data": {
            "image/png": "[encoded data removed]",
            "text/plain": [
              "<Figure size 640x480 with 1 Axes>"
            ]
          },
          "metadata": {},
          "output_type": "display_data"
        }
      ],
      "source": [
        "# Evaluate the model\n",
        "test_loss, test_acc = model.evaluate(x_test, y_test)\n",
        "print('Test accuracy:', test_acc)\n",
        "# Plot the training and validation accuracy\n",
        "plt.plot(history.history['accuracy'])\n",
        "plt.plot(history.history['val_accuracy'])\n",
        "plt.title('Model accuracy')\n",
        "plt.ylabel('Accuracy')\n",
        "plt.xlabel('Epoch')\n",
        "plt.legend(['Train', 'Validation'], loc='upper left')\n",
        "plt.show()"
      ]
    }
  ],
  "metadata": {
    "colab": {
      "provenance": []
    },
    "kernelspec": {
      "display_name": "Python 3",
      "name": "python3"
    },
    "language_info": {
      "name": "python"
    }
  },
  "nbformat": 4,
  "nbformat_minor": 0
}
